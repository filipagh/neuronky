{
 "cells": [
  {
   "cell_type": "code",
   "execution_count": 33,
   "metadata": {
    "hideCode": false,
    "hidePrompt": false
   },
   "outputs": [
    {
     "name": "stdout",
     "output_type": "stream",
     "text": [
      "/home/jovyan\n"
     ]
    },
    {
     "data": {
      "text/plain": "'/home/jovyan'"
     },
     "execution_count": 33,
     "metadata": {},
     "output_type": "execute_result"
    }
   ],
   "source": [
    "import numpy as np\n",
    "import pandas as pd\n",
    "import wandb\n",
    "import tensorflow as tf\n",
    "from wandb.keras import WandbCallback\n",
    "%cd ~/\n",
    "%pwd"
   ]
  },
  {
   "cell_type": "code",
   "execution_count": 34,
   "metadata": {
    "hideCode": false,
    "hidePrompt": false
   },
   "outputs": [
    {
     "data": {
      "text/plain": "<IPython.core.display.HTML object>",
      "text/html": "Finishing last run (ID:e9zl7otd) before initializing another..."
     },
     "metadata": {},
     "output_type": "display_data"
    },
    {
     "name": "stdout",
     "output_type": "stream",
     "text": [
      "\n"
     ]
    },
    {
     "data": {
      "text/plain": "<IPython.core.display.HTML object>",
      "text/html": "Waiting for W&B process to finish... <strong style=\"color:green\">(success).</strong>"
     },
     "metadata": {},
     "output_type": "display_data"
    },
    {
     "data": {
      "text/plain": "VBox(children=(Label(value='0.001 MB of 0.001 MB uploaded (0.000 MB deduped)\\r'), FloatProgress(value=1.0, max…",
      "application/vnd.jupyter.widget-view+json": {
       "version_major": 2,
       "version_minor": 0,
       "model_id": "a430660bf18241d195946a00ed7c75ed"
      }
     },
     "metadata": {},
     "output_type": "display_data"
    },
    {
     "data": {
      "text/plain": "<IPython.core.display.HTML object>",
      "text/html": "<style>\n    table.wandb td:nth-child(1) { padding: 0 10px; text-align: right }\n    .wandb-row { display: flex; flex-direction: row; flex-wrap: wrap; width: 100% }\n    .wandb-col { display: flex; flex-direction: column; flex-basis: 100%; flex: 1; padding: 10px; }\n    </style>\n<div class=\"wandb-row\"><div class=\"wandb-col\"><h3>Run history:</h3><br/><table class=\"wandb\"><tr><td>accuracy</td><td>▁▃▅▅▅▅▆▇▇▇▇▇▇▇▇▇█▇▇████▇▇█▇█▇██▇▇▇█▇▇███</td></tr><tr><td>epoch</td><td>▁▁▁▁▂▂▂▂▂▃▃▃▃▃▃▄▄▄▄▄▅▅▅▅▅▅▆▆▆▆▆▇▇▇▇▇▇███</td></tr><tr><td>loss</td><td>█▂▂▁▁▁▁▁▁▁▁▁▁▁▁▁▁▁▁▁▁▁▁▁▁▁▁▁▁▁▁▁▁▁▁▁▁▁▁▁</td></tr></table><br/></div><div class=\"wandb-col\"><h3>Run summary:</h3><br/><table class=\"wandb\"><tr><td>accuracy</td><td>0.58984</td></tr><tr><td>epoch</td><td>99</td></tr><tr><td>loss</td><td>0.50828</td></tr></table><br/></div></div>"
     },
     "metadata": {},
     "output_type": "display_data"
    },
    {
     "data": {
      "text/plain": "<IPython.core.display.HTML object>",
      "text/html": "Synced <strong style=\"color:#cdcd00\">woven-sea-14</strong>: <a href=\"https://wandb.ai/pumec-fiit/test-project/runs/e9zl7otd\" target=\"_blank\">https://wandb.ai/pumec-fiit/test-project/runs/e9zl7otd</a><br/>Synced 5 W&B file(s), 1 media file(s), 0 artifact file(s) and 0 other file(s)"
     },
     "metadata": {},
     "output_type": "display_data"
    },
    {
     "data": {
      "text/plain": "<IPython.core.display.HTML object>",
      "text/html": "Find logs at: <code>./wandb/run-20220315_202046-e9zl7otd/logs</code>"
     },
     "metadata": {},
     "output_type": "display_data"
    },
    {
     "data": {
      "text/plain": "<IPython.core.display.HTML object>",
      "text/html": "Successfully finished last run (ID:e9zl7otd). Initializing new run:<br/>"
     },
     "metadata": {},
     "output_type": "display_data"
    },
    {
     "data": {
      "text/plain": "<IPython.core.display.HTML object>",
      "text/html": "Tracking run with wandb version 0.12.11"
     },
     "metadata": {},
     "output_type": "display_data"
    },
    {
     "data": {
      "text/plain": "<IPython.core.display.HTML object>",
      "text/html": "Run data is saved locally in <code>/home/jovyan/wandb/run-20220315_202129-yio8tibu</code>"
     },
     "metadata": {},
     "output_type": "display_data"
    },
    {
     "data": {
      "text/plain": "<IPython.core.display.HTML object>",
      "text/html": "Syncing run <strong><a href=\"https://wandb.ai/pumec-fiit/test-project/runs/yio8tibu\" target=\"_blank\">swift-glade-15</a></strong> to <a href=\"https://wandb.ai/pumec-fiit/test-project\" target=\"_blank\">Weights & Biases</a> (<a href=\"https://wandb.me/run\" target=\"_blank\">docs</a>)<br/>"
     },
     "metadata": {},
     "output_type": "display_data"
    },
    {
     "data": {
      "text/html": "<button onClick=\"this.nextSibling.style.display='block';this.style.display='none';\">Display W&B run</button><iframe src=\"https://wandb.ai/pumec-fiit/test-project/runs/yio8tibu?jupyter=true\" style=\"border:none;width:100%;height:420px;display:none;\"></iframe>",
      "text/plain": "<wandb.sdk.wandb_run.Run at 0x7fb81cd2f1d0>"
     },
     "execution_count": 34,
     "metadata": {},
     "output_type": "execute_result"
    }
   ],
   "source": [
    "wandb.init(project=\"test-project\", entity=\"pumec-fiit\")\n",
    "\n",
    "# https://wandb.ai/authorize heslo"
   ]
  },
  {
   "cell_type": "code",
   "execution_count": 35,
   "metadata": {
    "hideCode": false,
    "hidePrompt": false
   },
   "outputs": [
    {
     "data": {
      "text/plain": "   Pregnancies  Glucose  BloodPressure  SkinThickness  Insulin   BMI  \\\n0            6      148             72             35        0  33.6   \n1            1       85             66             29        0  26.6   \n2            8      183             64              0        0  23.3   \n3            1       89             66             23       94  28.1   \n4            0      137             40             35      168  43.1   \n\n   DiabetesPedigreeFunction  Age  Outcome  \n0                     0.627   50        1  \n1                     0.351   31        0  \n2                     0.672   32        1  \n3                     0.167   21        0  \n4                     2.288   33        1  ",
      "text/html": "<div>\n<style scoped>\n    .dataframe tbody tr th:only-of-type {\n        vertical-align: middle;\n    }\n\n    .dataframe tbody tr th {\n        vertical-align: top;\n    }\n\n    .dataframe thead th {\n        text-align: right;\n    }\n</style>\n<table border=\"1\" class=\"dataframe\">\n  <thead>\n    <tr style=\"text-align: right;\">\n      <th></th>\n      <th>Pregnancies</th>\n      <th>Glucose</th>\n      <th>BloodPressure</th>\n      <th>SkinThickness</th>\n      <th>Insulin</th>\n      <th>BMI</th>\n      <th>DiabetesPedigreeFunction</th>\n      <th>Age</th>\n      <th>Outcome</th>\n    </tr>\n  </thead>\n  <tbody>\n    <tr>\n      <th>0</th>\n      <td>6</td>\n      <td>148</td>\n      <td>72</td>\n      <td>35</td>\n      <td>0</td>\n      <td>33.6</td>\n      <td>0.627</td>\n      <td>50</td>\n      <td>1</td>\n    </tr>\n    <tr>\n      <th>1</th>\n      <td>1</td>\n      <td>85</td>\n      <td>66</td>\n      <td>29</td>\n      <td>0</td>\n      <td>26.6</td>\n      <td>0.351</td>\n      <td>31</td>\n      <td>0</td>\n    </tr>\n    <tr>\n      <th>2</th>\n      <td>8</td>\n      <td>183</td>\n      <td>64</td>\n      <td>0</td>\n      <td>0</td>\n      <td>23.3</td>\n      <td>0.672</td>\n      <td>32</td>\n      <td>1</td>\n    </tr>\n    <tr>\n      <th>3</th>\n      <td>1</td>\n      <td>89</td>\n      <td>66</td>\n      <td>23</td>\n      <td>94</td>\n      <td>28.1</td>\n      <td>0.167</td>\n      <td>21</td>\n      <td>0</td>\n    </tr>\n    <tr>\n      <th>4</th>\n      <td>0</td>\n      <td>137</td>\n      <td>40</td>\n      <td>35</td>\n      <td>168</td>\n      <td>43.1</td>\n      <td>2.288</td>\n      <td>33</td>\n      <td>1</td>\n    </tr>\n  </tbody>\n</table>\n</div>"
     },
     "execution_count": 35,
     "metadata": {},
     "output_type": "execute_result"
    }
   ],
   "source": [
    "df = pd.read_csv(\"work/diabetes.csv\")\n",
    "df.head()"
   ]
  },
  {
   "cell_type": "code",
   "execution_count": 36,
   "metadata": {
    "hideCode": false,
    "hidePrompt": false
   },
   "outputs": [],
   "source": [
    "train = df.copy()\n",
    "target = train.pop('Outcome')"
   ]
  },
  {
   "cell_type": "code",
   "execution_count": 37,
   "metadata": {
    "hideCode": false,
    "hidePrompt": false
   },
   "outputs": [
    {
     "data": {
      "text/plain": "array([[  6.   , 148.   ,  72.   , ...,  33.6  ,   0.627,  50.   ],\n       [  1.   ,  85.   ,  66.   , ...,  26.6  ,   0.351,  31.   ],\n       [  8.   , 183.   ,  64.   , ...,  23.3  ,   0.672,  32.   ],\n       ...,\n       [  5.   , 121.   ,  72.   , ...,  26.2  ,   0.245,  30.   ],\n       [  1.   , 126.   ,  60.   , ...,  30.1  ,   0.349,  47.   ],\n       [  1.   ,  93.   ,  70.   , ...,  30.4  ,   0.315,  23.   ]])"
     },
     "execution_count": 37,
     "metadata": {},
     "output_type": "execute_result"
    }
   ],
   "source": [
    "features = list(dict(train).keys())\n",
    "# df = df.astype('float64')\n",
    "data = np.array(train)\n",
    "# tf.ragged.constant(df)"
   ]
  },
  {
   "cell_type": "code",
   "execution_count": 38,
   "metadata": {
    "hideCode": false,
    "hidePrompt": false
   },
   "outputs": [],
   "source": [
    "# test_dataset = training_dataset.take(100)\n",
    "# train_dataset = training_dataset.skip(100)\n"
   ]
  },
  {
   "cell_type": "code",
   "execution_count": 39,
   "metadata": {
    "hideCode": false,
    "hidePrompt": false
   },
   "outputs": [],
   "source": [
    "model = tf.keras.models.Sequential([\n",
    "#   tf.keras.layers.DenseFeatures(feature_columns=fc),\n",
    "  tf.keras.layers.Dense(15, activation='relu'),\n",
    "  tf.keras.layers.Dense(4, activation='relu'),\n",
    "  tf.keras.layers.Dense(1)\n",
    "])"
   ]
  },
  {
   "cell_type": "code",
   "execution_count": 40,
   "metadata": {
    "hideCode": false,
    "hidePrompt": false
   },
   "outputs": [],
   "source": [
    "model.compile(optimizer='adam',\n",
    "              loss=tf.keras.losses.MeanSquaredError(),\n",
    "              metrics=['accuracy'])\n"
   ]
  },
  {
   "cell_type": "code",
   "execution_count": 41,
   "metadata": {
    "hideCode": false,
    "hidePrompt": false,
    "pycharm": {
     "name": "#%%\n"
    }
   },
   "outputs": [
    {
     "name": "stdout",
     "output_type": "stream",
     "text": [
      "Train on 768 samples\n",
      "Epoch 1/100\n",
      "768/768 [==============================] - 0s 357us/sample - loss: 6239.2313 - accuracy: 0.3490\n",
      "Epoch 2/100\n",
      "768/768 [==============================] - 0s 135us/sample - loss: 2892.1590 - accuracy: 0.3503\n",
      "Epoch 3/100\n",
      "768/768 [==============================] - 0s 93us/sample - loss: 1341.1989 - accuracy: 0.4128\n",
      "Epoch 4/100\n",
      "768/768 [==============================] - 0s 104us/sample - loss: 665.3841 - accuracy: 0.4792\n",
      "Epoch 5/100\n",
      "768/768 [==============================] - 0s 90us/sample - loss: 328.6754 - accuracy: 0.5091\n",
      "Epoch 6/100\n",
      "768/768 [==============================] - 0s 114us/sample - loss: 193.5297 - accuracy: 0.5326\n",
      "Epoch 7/100\n",
      "768/768 [==============================] - 0s 102us/sample - loss: 124.2677 - accuracy: 0.5430\n",
      "Epoch 8/100\n",
      "768/768 [==============================] - 0s 114us/sample - loss: 84.1512 - accuracy: 0.5547\n",
      "Epoch 9/100\n",
      "768/768 [==============================] - 0s 94us/sample - loss: 59.3480 - accuracy: 0.5781\n",
      "Epoch 10/100\n",
      "768/768 [==============================] - 0s 73us/sample - loss: 42.4165 - accuracy: 0.5924\n",
      "Epoch 11/100\n",
      "768/768 [==============================] - 0s 78us/sample - loss: 29.5645 - accuracy: 0.6068\n",
      "Epoch 12/100\n",
      "768/768 [==============================] - 0s 78us/sample - loss: 19.2437 - accuracy: 0.6172\n",
      "Epoch 13/100\n",
      "768/768 [==============================] - 0s 80us/sample - loss: 14.0153 - accuracy: 0.6328\n",
      "Epoch 14/100\n",
      "768/768 [==============================] - 0s 103us/sample - loss: 10.9361 - accuracy: 0.6250\n",
      "Epoch 15/100\n",
      "768/768 [==============================] - 0s 90us/sample - loss: 8.3830 - accuracy: 0.6341\n",
      "Epoch 16/100\n",
      "768/768 [==============================] - 0s 100us/sample - loss: 6.9472 - accuracy: 0.6315\n",
      "Epoch 17/100\n",
      "768/768 [==============================] - 0s 107us/sample - loss: 5.8891 - accuracy: 0.6406\n",
      "Epoch 18/100\n",
      "768/768 [==============================] - 0s 90us/sample - loss: 5.0510 - accuracy: 0.6549\n",
      "Epoch 19/100\n",
      "768/768 [==============================] - 0s 81us/sample - loss: 4.3546 - accuracy: 0.6589\n",
      "Epoch 20/100\n",
      "768/768 [==============================] - 0s 84us/sample - loss: 3.8065 - accuracy: 0.6576\n",
      "Epoch 21/100\n",
      "768/768 [==============================] - 0s 71us/sample - loss: 3.3219 - accuracy: 0.6562\n",
      "Epoch 22/100\n",
      "768/768 [==============================] - 0s 63us/sample - loss: 2.9318 - accuracy: 0.6576\n",
      "Epoch 23/100\n",
      "768/768 [==============================] - 0s 80us/sample - loss: 2.5895 - accuracy: 0.6536\n",
      "Epoch 24/100\n",
      "768/768 [==============================] - 0s 80us/sample - loss: 2.3150 - accuracy: 0.6523\n",
      "Epoch 25/100\n",
      "768/768 [==============================] - 0s 64us/sample - loss: 2.0621 - accuracy: 0.6510\n",
      "Epoch 26/100\n",
      "768/768 [==============================] - 0s 74us/sample - loss: 1.8528 - accuracy: 0.6497\n",
      "Epoch 27/100\n",
      "768/768 [==============================] - 0s 61us/sample - loss: 1.6903 - accuracy: 0.6497\n",
      "Epoch 28/100\n",
      "768/768 [==============================] - 0s 93us/sample - loss: 1.5208 - accuracy: 0.6510\n",
      "Epoch 29/100\n",
      "768/768 [==============================] - 0s 82us/sample - loss: 1.4013 - accuracy: 0.6523\n",
      "Epoch 30/100\n",
      "768/768 [==============================] - 0s 87us/sample - loss: 1.2749 - accuracy: 0.6510\n",
      "Epoch 31/100\n",
      "768/768 [==============================] - 0s 72us/sample - loss: 1.1880 - accuracy: 0.6497\n",
      "Epoch 32/100\n",
      "768/768 [==============================] - 0s 74us/sample - loss: 1.0981 - accuracy: 0.6497\n",
      "Epoch 33/100\n",
      "768/768 [==============================] - 0s 59us/sample - loss: 1.0281 - accuracy: 0.6510\n",
      "Epoch 34/100\n",
      "768/768 [==============================] - 0s 57us/sample - loss: 0.9673 - accuracy: 0.6497\n",
      "Epoch 35/100\n",
      "768/768 [==============================] - 0s 58us/sample - loss: 0.9181 - accuracy: 0.6497\n",
      "Epoch 36/100\n",
      "768/768 [==============================] - 0s 62us/sample - loss: 0.8662 - accuracy: 0.6484\n",
      "Epoch 37/100\n",
      "768/768 [==============================] - 0s 85us/sample - loss: 0.8246 - accuracy: 0.6484\n",
      "Epoch 38/100\n",
      "768/768 [==============================] - 0s 58us/sample - loss: 0.7877 - accuracy: 0.6471\n",
      "Epoch 39/100\n",
      "768/768 [==============================] - 0s 64us/sample - loss: 0.7579 - accuracy: 0.6484\n",
      "Epoch 40/100\n",
      "768/768 [==============================] - 0s 74us/sample - loss: 0.7278 - accuracy: 0.6484\n",
      "Epoch 41/100\n",
      "768/768 [==============================] - 0s 66us/sample - loss: 0.7039 - accuracy: 0.6484\n",
      "Epoch 42/100\n",
      "768/768 [==============================] - 0s 72us/sample - loss: 0.6778 - accuracy: 0.6484\n",
      "Epoch 43/100\n",
      "768/768 [==============================] - 0s 59us/sample - loss: 0.6558 - accuracy: 0.6471\n",
      "Epoch 44/100\n",
      "768/768 [==============================] - 0s 63us/sample - loss: 0.6369 - accuracy: 0.6458\n",
      "Epoch 45/100\n",
      "768/768 [==============================] - 0s 64us/sample - loss: 0.6187 - accuracy: 0.6458\n",
      "Epoch 46/100\n",
      "768/768 [==============================] - 0s 80us/sample - loss: 0.6026 - accuracy: 0.6471\n",
      "Epoch 47/100\n",
      "768/768 [==============================] - 0s 65us/sample - loss: 0.5875 - accuracy: 0.6458\n",
      "Epoch 48/100\n",
      "768/768 [==============================] - 0s 62us/sample - loss: 0.5742 - accuracy: 0.6471\n",
      "Epoch 49/100\n",
      "768/768 [==============================] - 0s 67us/sample - loss: 0.5612 - accuracy: 0.6471\n",
      "Epoch 50/100\n",
      "768/768 [==============================] - 0s 61us/sample - loss: 0.5490 - accuracy: 0.6497\n",
      "Epoch 51/100\n",
      "768/768 [==============================] - 0s 60us/sample - loss: 0.5387 - accuracy: 0.6497\n",
      "Epoch 52/100\n",
      "768/768 [==============================] - 0s 72us/sample - loss: 0.5285 - accuracy: 0.6497\n",
      "Epoch 53/100\n",
      "768/768 [==============================] - 0s 60us/sample - loss: 0.5183 - accuracy: 0.6497\n",
      "Epoch 54/100\n",
      "768/768 [==============================] - 0s 69us/sample - loss: 0.5100 - accuracy: 0.6497\n",
      "Epoch 55/100\n",
      "768/768 [==============================] - 0s 72us/sample - loss: 0.5023 - accuracy: 0.6497\n",
      "Epoch 56/100\n",
      "768/768 [==============================] - 0s 102us/sample - loss: 0.4944 - accuracy: 0.6510\n",
      "Epoch 57/100\n",
      "768/768 [==============================] - 0s 63us/sample - loss: 0.4880 - accuracy: 0.6510\n",
      "Epoch 58/100\n",
      "768/768 [==============================] - 0s 72us/sample - loss: 0.4806 - accuracy: 0.6523\n",
      "Epoch 59/100\n",
      "768/768 [==============================] - 0s 62us/sample - loss: 0.4742 - accuracy: 0.6523\n",
      "Epoch 60/100\n",
      "768/768 [==============================] - 0s 86us/sample - loss: 0.4684 - accuracy: 0.6523\n",
      "Epoch 61/100\n",
      "768/768 [==============================] - 0s 65us/sample - loss: 0.4622 - accuracy: 0.6523\n",
      "Epoch 62/100\n",
      "768/768 [==============================] - 0s 56us/sample - loss: 0.4569 - accuracy: 0.6523\n",
      "Epoch 63/100\n",
      "768/768 [==============================] - 0s 52us/sample - loss: 0.4517 - accuracy: 0.6523\n",
      "Epoch 64/100\n",
      "768/768 [==============================] - 0s 55us/sample - loss: 0.4471 - accuracy: 0.6523\n",
      "Epoch 65/100\n",
      "768/768 [==============================] - 0s 53us/sample - loss: 0.4420 - accuracy: 0.6523\n",
      "Epoch 66/100\n",
      "768/768 [==============================] - 0s 57us/sample - loss: 0.4372 - accuracy: 0.6536\n",
      "Epoch 67/100\n",
      "768/768 [==============================] - 0s 58us/sample - loss: 0.4329 - accuracy: 0.6549\n",
      "Epoch 68/100\n",
      "768/768 [==============================] - 0s 55us/sample - loss: 0.4289 - accuracy: 0.6549\n",
      "Epoch 69/100\n",
      "768/768 [==============================] - 0s 54us/sample - loss: 0.4248 - accuracy: 0.6549\n",
      "Epoch 70/100\n",
      "768/768 [==============================] - 0s 86us/sample - loss: 0.4212 - accuracy: 0.6562\n",
      "Epoch 71/100\n",
      "768/768 [==============================] - 0s 75us/sample - loss: 0.4178 - accuracy: 0.6576\n",
      "Epoch 72/100\n",
      "768/768 [==============================] - 0s 81us/sample - loss: 0.4147 - accuracy: 0.6576\n",
      "Epoch 73/100\n",
      "768/768 [==============================] - 0s 56us/sample - loss: 0.4116 - accuracy: 0.6576\n",
      "Epoch 74/100\n",
      "768/768 [==============================] - 0s 51us/sample - loss: 0.4087 - accuracy: 0.6576\n",
      "Epoch 75/100\n",
      "768/768 [==============================] - 0s 73us/sample - loss: 0.4059 - accuracy: 0.6576\n",
      "Epoch 76/100\n",
      "768/768 [==============================] - 0s 153us/sample - loss: 0.4032 - accuracy: 0.6576\n",
      "Epoch 77/100\n",
      "768/768 [==============================] - 0s 133us/sample - loss: 0.4006 - accuracy: 0.6576\n",
      "Epoch 78/100\n",
      "768/768 [==============================] - 0s 57us/sample - loss: 0.3979 - accuracy: 0.6576\n",
      "Epoch 79/100\n",
      "768/768 [==============================] - 0s 49us/sample - loss: 0.3954 - accuracy: 0.6576\n",
      "Epoch 80/100\n",
      "768/768 [==============================] - 0s 122us/sample - loss: 0.3931 - accuracy: 0.6589\n",
      "Epoch 81/100\n",
      "768/768 [==============================] - 0s 146us/sample - loss: 0.3907 - accuracy: 0.6589\n",
      "Epoch 82/100\n",
      "768/768 [==============================] - 0s 65us/sample - loss: 0.3884 - accuracy: 0.6589\n",
      "Epoch 83/100\n",
      "768/768 [==============================] - 0s 62us/sample - loss: 0.3862 - accuracy: 0.6589\n",
      "Epoch 84/100\n",
      "768/768 [==============================] - 0s 65us/sample - loss: 0.3840 - accuracy: 0.6602\n",
      "Epoch 85/100\n",
      "768/768 [==============================] - 0s 65us/sample - loss: 0.3818 - accuracy: 0.6589\n",
      "Epoch 86/100\n",
      "768/768 [==============================] - 0s 63us/sample - loss: 0.3798 - accuracy: 0.6602\n",
      "Epoch 87/100\n",
      "768/768 [==============================] - 0s 51us/sample - loss: 0.3777 - accuracy: 0.6602\n",
      "Epoch 88/100\n",
      "768/768 [==============================] - 0s 80us/sample - loss: 0.3757 - accuracy: 0.6602\n",
      "Epoch 89/100\n",
      "768/768 [==============================] - 0s 91us/sample - loss: 0.3738 - accuracy: 0.6602\n",
      "Epoch 90/100\n",
      "768/768 [==============================] - 0s 78us/sample - loss: 0.3718 - accuracy: 0.6615\n",
      "Epoch 91/100\n",
      "768/768 [==============================] - 0s 84us/sample - loss: 0.3699 - accuracy: 0.6602\n",
      "Epoch 92/100\n",
      "768/768 [==============================] - 0s 92us/sample - loss: 0.3680 - accuracy: 0.6602\n",
      "Epoch 93/100\n",
      "768/768 [==============================] - 0s 102us/sample - loss: 0.3662 - accuracy: 0.6602\n",
      "Epoch 94/100\n",
      "768/768 [==============================] - 0s 87us/sample - loss: 0.3644 - accuracy: 0.6589\n",
      "Epoch 95/100\n",
      "768/768 [==============================] - 0s 92us/sample - loss: 0.3626 - accuracy: 0.6602\n",
      "Epoch 96/100\n",
      "768/768 [==============================] - 0s 93us/sample - loss: 0.3608 - accuracy: 0.6602\n",
      "Epoch 97/100\n",
      "768/768 [==============================] - 0s 97us/sample - loss: 0.3592 - accuracy: 0.6615\n",
      "Epoch 98/100\n",
      "768/768 [==============================] - 0s 62us/sample - loss: 0.3573 - accuracy: 0.6602\n",
      "Epoch 99/100\n",
      "768/768 [==============================] - 0s 55us/sample - loss: 0.3557 - accuracy: 0.6602\n",
      "Epoch 100/100\n",
      "768/768 [==============================] - 0s 53us/sample - loss: 0.3540 - accuracy: 0.6602\n"
     ]
    },
    {
     "data": {
      "text/plain": "<tensorflow.python.keras.callbacks.History at 0x7fb81cc2f208>"
     },
     "execution_count": 41,
     "metadata": {},
     "output_type": "execute_result"
    }
   ],
   "source": [
    "# model.fit(data, epochs=10)\n",
    "model.fit(data,np.array(list(target)), epochs=100,callbacks=[WandbCallback()])\n"
   ]
  }
 ],
 "metadata": {
  "hide_code_all_hidden": false,
  "kernelspec": {
   "display_name": "Python 3",
   "language": "python",
   "name": "python3"
  },
  "language_info": {
   "codemirror_mode": {
    "name": "ipython",
    "version": 3
   },
   "file_extension": ".py",
   "mimetype": "text/x-python",
   "name": "python",
   "nbconvert_exporter": "python",
   "pygments_lexer": "ipython3",
   "version": "3.7.3"
  }
 },
 "nbformat": 4,
 "nbformat_minor": 4
}