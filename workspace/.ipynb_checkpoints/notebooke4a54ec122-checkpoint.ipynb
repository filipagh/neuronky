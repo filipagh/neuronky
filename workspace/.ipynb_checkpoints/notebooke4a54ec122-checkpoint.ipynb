{
 "cells": [
  {
   "cell_type": "code",
   "execution_count": null,
   "metadata": {
    "_uuid": "169621c8e2cfe7715940a2cea6a867c2b3b1730c"
   },
   "outputs": [],
   "source": [
    "# Tensorflow Linear Classifier Example\n",
    "\n",
    "## Classification on : Pima Indians Diabetes Dataset"
   ]
  },
  {
   "cell_type": "markdown",
   "metadata": {
    "_uuid": "46ad7472a368c761c9f152ae027de8616c6cfe20"
   },
   "source": [
    "\n",
    "### Import this csv file using `pandas` and view its columns.\n"
   ]
  },
  {
   "cell_type": "code",
   "execution_count": 31,
   "metadata": {
    "_uuid": "538a9816a14038bc8483d311e089088c1be061cb",
    "collapsed": true,
    "jupyter": {
     "outputs_hidden": true
    }
   },
   "outputs": [],
   "source": [
    "import pandas as pd\n",
    "\n",
    "diabetes = pd.read_csv('../input/diabetes.csv')"
   ]
  },
  {
   "cell_type": "code",
   "execution_count": 32,
   "metadata": {
    "_uuid": "d2ab396c10accecc90bcae817e090ae1c7dc2935"
   },
   "outputs": [],
   "source": [
    "diabetes.head()"
   ]
  },
  {
   "cell_type": "markdown",
   "metadata": {
    "_uuid": "fda01377dbb736cef36dc629034fbc64cc5de418"
   },
   "source": [
    "### Here, the last column `Outcome` is the final output or the prediction whether the person is suffering from diabetes or not. \n",
    "\n",
    "#### In this dataset, it is easy that we can predict the `Age` column will help us to classify our data because it can be a continuous feature column. Let's plot a graph to check our assumption."
   ]
  },
  {
   "cell_type": "code",
   "execution_count": 33,
   "metadata": {
    "_uuid": "dd27a04270fbad2fc946c2b4f8b5da1b8ac0d31c",
    "collapsed": true,
    "jupyter": {
     "outputs_hidden": true
    }
   },
   "outputs": [],
   "source": [
    "import matplotlib.pyplot as plt\n",
    "%matplotlib inline"
   ]
  },
  {
   "cell_type": "code",
   "execution_count": 34,
   "metadata": {
    "_uuid": "fec4041b57be3fedda216fefe3d4a8d6f467735f"
   },
   "outputs": [],
   "source": [
    "diabetes['Age'].hist(bins=20)"
   ]
  },
  {
   "cell_type": "markdown",
   "metadata": {
    "_uuid": "95f1fdf5cf2603bb324df94cccf6ac011fc4d1a1"
   },
   "source": [
    "## Now let's normalize this dataset.\n",
    "\n",
    "* We'll not include `Age` and `Outcome` because Age is our continuous feature column and Outcome is the final result."
   ]
  },
  {
   "cell_type": "code",
   "execution_count": 35,
   "metadata": {
    "_uuid": "24364a3fbaeb724c164c86ae5d75c63cd4bdb5b5",
    "collapsed": true,
    "jupyter": {
     "outputs_hidden": true
    }
   },
   "outputs": [],
   "source": [
    "cols_to_norm = ['Pregnancies', 'Glucose', 'BloodPressure', 'SkinThickness', 'Insulin',\n",
    "       'BMI', 'DiabetesPedigreeFunction']"
   ]
  },
  {
   "cell_type": "code",
   "execution_count": 36,
   "metadata": {
    "_uuid": "96c92d2fbb44dae4616ab8dd5a1755d59e527a65",
    "collapsed": true,
    "jupyter": {
     "outputs_hidden": true
    }
   },
   "outputs": [],
   "source": [
    "diabetes[cols_to_norm] = diabetes[cols_to_norm].apply(lambda x : (x - x.min()) / (x.max() - x.min()))"
   ]
  },
  {
   "cell_type": "code",
   "execution_count": 37,
   "metadata": {
    "_uuid": "afb5a55c93686f95fc073342627755bc754bec7c"
   },
   "outputs": [],
   "source": [
    "diabetes.head()"
   ]
  },
  {
   "cell_type": "markdown",
   "metadata": {
    "_uuid": "02c7c2276110415baf41cfaabf24865d62d7169c"
   },
   "source": [
    "## Covert this data into feature and numeric columns using Tensorflow"
   ]
  },
  {
   "cell_type": "code",
   "execution_count": 38,
   "metadata": {
    "_uuid": "718458e13f1750472642bc12020510acc5f7dfbc",
    "collapsed": true,
    "jupyter": {
     "outputs_hidden": true
    }
   },
   "outputs": [],
   "source": [
    "import tensorflow as tf"
   ]
  },
  {
   "cell_type": "code",
   "execution_count": 39,
   "metadata": {
    "_uuid": "e5faa9174843e96fcdb97cdc667115b2d60c358c",
    "collapsed": true,
    "jupyter": {
     "outputs_hidden": true
    }
   },
   "outputs": [],
   "source": [
    "pregnancies          = tf.feature_column.numeric_column('Pregnancies')\n",
    "glucose              = tf.feature_column.numeric_column('Glucose')\n",
    "blood_pressure       = tf.feature_column.numeric_column('BloodPressure')\n",
    "skin_thickness       = tf.feature_column.numeric_column('SkinThickness')\n",
    "insulin              = tf.feature_column.numeric_column('Insulin')\n",
    "bmi                  = tf.feature_column.numeric_column('BMI')\n",
    "diabetes_pedigree_fn = tf.feature_column.numeric_column('DiabetesPedigreeFunction')\n",
    "age                  = tf.feature_column.numeric_column('Age')"
   ]
  },
  {
   "cell_type": "markdown",
   "metadata": {
    "_uuid": "d6da8f449eaab13a7fb2e2125099ad96942a86f8"
   },
   "source": [
    "## Same for non continuous features\n",
    "* First we'll do this using `vocabulary list` and then use `hash buckets`"
   ]
  },
  {
   "cell_type": "code",
   "execution_count": 40,
   "metadata": {
    "_uuid": "a22cd57c61185e56404248af03e1e05404df31ce",
    "collapsed": true,
    "jupyter": {
     "outputs_hidden": true
    }
   },
   "outputs": [],
   "source": [
    "assigned_group = tf.feature_column.categorical_column_with_vocabulary_list('Outcome', ['0', '1'])"
   ]
  },
  {
   "cell_type": "code",
   "execution_count": 41,
   "metadata": {
    "_uuid": "870e9e259eea08f9d899286c60018395874a824e",
    "collapsed": true,
    "jupyter": {
     "outputs_hidden": true
    }
   },
   "outputs": [],
   "source": [
    "# assigned_group = tf.feature_column.categorical_column_with_hash_bucket('Outcome', hash_bucket_size=2)"
   ]
  },
  {
   "cell_type": "markdown",
   "metadata": {
    "_uuid": "1b5f39f1ce82db471f78d383923587d27ffd97a8"
   },
   "source": [
    "## Creating age bucket"
   ]
  },
  {
   "cell_type": "code",
   "execution_count": 42,
   "metadata": {
    "_uuid": "c89a6314184e2b501b8441aad4cce33d55034a2c",
    "collapsed": true,
    "jupyter": {
     "outputs_hidden": true
    }
   },
   "outputs": [],
   "source": [
    "age_bucket = tf.feature_column.bucketized_column(age, boundaries=[20,30,40,50,60,70,80])"
   ]
  },
  {
   "cell_type": "code",
   "execution_count": 43,
   "metadata": {
    "_uuid": "7a392800b9ebf3fffb07b2042a91b69c16c14e7c",
    "collapsed": true,
    "jupyter": {
     "outputs_hidden": true
    }
   },
   "outputs": [],
   "source": [
    "feat_cols = [pregnancies, glucose, blood_pressure, skin_thickness, insulin, bmi, diabetes_pedigree_fn, age_bucket]"
   ]
  },
  {
   "cell_type": "markdown",
   "metadata": {
    "_uuid": "e7b5350c195a6c05df9b7e55904c79f507843053"
   },
   "source": [
    "## Now we'll perform `train-test-split` using `Scikit Learn`\n",
    "  \n",
    "  \n",
    "* We want `Outcome` column to be in Y Data and everything else in X Data\n",
    "\n",
    "* Also we'll use `Outcome` column for labels"
   ]
  },
  {
   "cell_type": "code",
   "execution_count": 44,
   "metadata": {
    "_uuid": "6600679bb2ebcd358258f92ba64546fd0e14a3a4"
   },
   "outputs": [],
   "source": [
    "x_data = diabetes.drop('Outcome', axis=1)\n",
    "\n",
    "x_data.head()"
   ]
  },
  {
   "cell_type": "code",
   "execution_count": 45,
   "metadata": {
    "_uuid": "6280f8efcbf19e972d03aaee2356b79183e700b3"
   },
   "outputs": [],
   "source": [
    "labels = diabetes['Outcome']\n",
    "\n",
    "labels.head()"
   ]
  },
  {
   "cell_type": "code",
   "execution_count": 46,
   "metadata": {
    "_uuid": "c002ba2cb8220d0e6df9ade41dc8c745bed33324",
    "collapsed": true,
    "jupyter": {
     "outputs_hidden": true
    }
   },
   "outputs": [],
   "source": [
    "from sklearn.model_selection import train_test_split"
   ]
  },
  {
   "cell_type": "code",
   "execution_count": 47,
   "metadata": {
    "_uuid": "5397932d696c0613d2606ae316623a5cb45609fd",
    "collapsed": true,
    "jupyter": {
     "outputs_hidden": true
    }
   },
   "outputs": [],
   "source": [
    "X_train, X_test, y_train, y_test = train_test_split(x_data, labels, test_size=0.3, random_state=101)"
   ]
  },
  {
   "cell_type": "markdown",
   "metadata": {
    "_uuid": "36e86035a3e6161784d74f73ef8fa1bdee686e46"
   },
   "source": [
    "## Creating our Model\n",
    "\n",
    "* Here we have used `pandas` to import the csv file, we'll use `pandas_input_fn` in input function."
   ]
  },
  {
   "cell_type": "code",
   "execution_count": 48,
   "metadata": {
    "_uuid": "650e8ce65e7cf439cd1973be6cad89127bddb410",
    "collapsed": true,
    "jupyter": {
     "outputs_hidden": true
    }
   },
   "outputs": [],
   "source": [
    "input_func = tf.estimator.inputs.pandas_input_fn(x=X_train, y=y_train, batch_size=10, num_epochs=1000, shuffle=True)"
   ]
  },
  {
   "cell_type": "code",
   "execution_count": 49,
   "metadata": {
    "_uuid": "992b36e0ecc5c685276d3dc0fd11ff36ca924b0c",
    "collapsed": true,
    "jupyter": {
     "outputs_hidden": true
    }
   },
   "outputs": [],
   "source": [
    "model = tf.estimator.LinearClassifier(feature_columns=feat_cols, n_classes=2)"
   ]
  },
  {
   "cell_type": "markdown",
   "metadata": {
    "_uuid": "c3ad52c5f32d6efb0b93070dcddc194825cbf07d"
   },
   "source": [
    "## Training the model"
   ]
  },
  {
   "cell_type": "code",
   "execution_count": 50,
   "metadata": {
    "_uuid": "b83259ee6e8f0cef077eb9e8db58424cdf3bde93"
   },
   "outputs": [],
   "source": [
    "model.train(input_fn=input_func, steps=1000)"
   ]
  },
  {
   "cell_type": "markdown",
   "metadata": {
    "_uuid": "0383427c425e8cb24668f49bf0d59fc2d8b36d8c"
   },
   "source": [
    "## Evaluating the model"
   ]
  },
  {
   "cell_type": "code",
   "execution_count": 51,
   "metadata": {
    "_uuid": "b13085fd79588b0f4713947ab48effb10d720b0f",
    "collapsed": true,
    "jupyter": {
     "outputs_hidden": true
    }
   },
   "outputs": [],
   "source": [
    "eval_input_func = tf.estimator.inputs.pandas_input_fn(x=X_test, y=y_test, batch_size=10, num_epochs=1, shuffle=False)"
   ]
  },
  {
   "cell_type": "code",
   "execution_count": 52,
   "metadata": {
    "_uuid": "9bbf3277aef8ddd56e1cd3d03625e241e02bc650",
    "collapsed": true,
    "jupyter": {
     "outputs_hidden": true
    }
   },
   "outputs": [],
   "source": [
    "results = model.evaluate(eval_input_func)"
   ]
  },
  {
   "cell_type": "code",
   "execution_count": 53,
   "metadata": {
    "_uuid": "74559acfcfc8afb98eeab1ee2e4586a308c54eeb"
   },
   "outputs": [],
   "source": [
    "results"
   ]
  },
  {
   "cell_type": "markdown",
   "metadata": {
    "_uuid": "8cd1e01729137c09615729d110749c2bd42b170e"
   },
   "source": [
    "## Making Predictions\n",
    "\n",
    "* Since we don't have separate data to predict, we'll use test split to predict the results."
   ]
  },
  {
   "cell_type": "code",
   "execution_count": 54,
   "metadata": {
    "_uuid": "33537d9f5153a90d3d2c4b0a481a9e70fd149f27",
    "collapsed": true,
    "jupyter": {
     "outputs_hidden": true
    }
   },
   "outputs": [],
   "source": [
    "pred_input_func = tf.estimator.inputs.pandas_input_fn(x=X_test, batch_size=10, num_epochs=1, shuffle=False)"
   ]
  },
  {
   "cell_type": "code",
   "execution_count": 55,
   "metadata": {
    "_uuid": "dc9a445bb79cb63602347bff870f1ed135e500b1",
    "collapsed": true,
    "jupyter": {
     "outputs_hidden": true
    }
   },
   "outputs": [],
   "source": [
    "predictions = model.predict(pred_input_func)\n",
    "\n",
    "predictions = list(predictions)"
   ]
  },
  {
   "cell_type": "markdown",
   "metadata": {
    "_uuid": "75549ab96922fc693cce2d9c38ddd089d5918eb5"
   },
   "source": [
    "## Now let's compare this predictions with original data: `y_test`\n",
    "\n",
    "* First print the first 5 elements of both `predictions` and `y_test` then compare the outputs."
   ]
  },
  {
   "cell_type": "code",
   "execution_count": 56,
   "metadata": {
    "_uuid": "b69420cb7062ec82e9c3d4919a05d2bb40230d0a"
   },
   "outputs": [],
   "source": [
    "predictions[:5]"
   ]
  },
  {
   "cell_type": "code",
   "execution_count": 57,
   "metadata": {
    "_uuid": "695f7d82a7dd22ecd9ddf835ed5e100161eb6542"
   },
   "outputs": [],
   "source": [
    "y_test.head()"
   ]
  },
  {
   "cell_type": "markdown",
   "metadata": {
    "_uuid": "b7ad39acf2a4006881e9c5619dcb8387a1f21bbd"
   },
   "source": [
    "* Here the index of first element in `y_test` is 766 and the Outcome is `1`\n",
    "* Also the outcome at index 42 and the element 3 is `0`.\n",
    "* We'll compare these indexes with our `predictions`."
   ]
  },
  {
   "cell_type": "code",
   "execution_count": 58,
   "metadata": {
    "_uuid": "03a0c6deb8dc7da9738057666ae8db3f1c2d9745"
   },
   "outputs": [],
   "source": [
    "print('Comparing First Element:', 'Predictions:' ,predictions[0]['class_ids'][0], '&& y_test: ',y_test[766])\n",
    "print('Probability', predictions[0]['probabilities'].max())"
   ]
  },
  {
   "cell_type": "code",
   "execution_count": 59,
   "metadata": {
    "_uuid": "9f7953db233355c559ac03891a00db378b1e0fbe"
   },
   "outputs": [],
   "source": [
    "print('Comparing Third Element:', 'Predictions:' ,predictions[2]['class_ids'][0], '&& y_test: ',y_test[42])\n",
    "print('Probability', predictions[2]['probabilities'].max())"
   ]
  },
  {
   "cell_type": "code",
   "execution_count": null,
   "metadata": {
    "_uuid": "ab3ecd8585828741ad400f9f236c0db3f34713f9",
    "collapsed": true,
    "jupyter": {
     "outputs_hidden": true
    }
   },
   "outputs": [],
   "source": []
  }
 ],
 "metadata": {
  "kernelspec": {
   "display_name": "Python 3",
   "language": "python",
   "name": "python3"
  },
  "language_info": {
   "codemirror_mode": {
    "name": "ipython",
    "version": 3
   },
   "file_extension": ".py",
   "mimetype": "text/x-python",
   "name": "python",
   "nbconvert_exporter": "python",
   "pygments_lexer": "ipython3",
   "version": "3.7.3"
  }
 },
 "nbformat": 4,
 "nbformat_minor": 4
}
